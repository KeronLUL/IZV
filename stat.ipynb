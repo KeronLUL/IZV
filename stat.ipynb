{
 "cells": [
  {
   "cell_type": "code",
   "execution_count": 9,
   "metadata": {},
   "outputs": [],
   "source": [
    "import numpy as np, pandas as pd\n",
    "import scipy.stats"
   ]
  },
  {
   "cell_type": "markdown",
   "metadata": {},
   "source": [
    "# First hypothesis - Is first class road more deadly than highway?\n",
    "\n",
    "### Prepare data\n",
    "\n",
    "1. Extract needed columns from accidents.pkl.gz\n",
    "2. Create new columns for contingency table"
   ]
  },
  {
   "cell_type": "code",
   "execution_count": 10,
   "metadata": {},
   "outputs": [],
   "source": [
    "df_fat = pd.read_pickle(\"accidents.pkl.gz\")[['p13a', 'p36']]\n",
    "df_fat = df_fat[df_fat['p36'].isin([0, 1])]\n",
    "df_fat['fatality'] = df_fat['p13a'] > 0\n",
    "df_fat['first_class'] = df_fat['p36'] == 1"
   ]
  },
  {
   "cell_type": "markdown",
   "metadata": {},
   "source": [
    "### Make contingency table"
   ]
  },
  {
   "cell_type": "code",
   "execution_count": 11,
   "metadata": {},
   "outputs": [
    {
     "data": {
      "text/html": [
       "<div>\n",
       "<style scoped>\n",
       "    .dataframe tbody tr th:only-of-type {\n",
       "        vertical-align: middle;\n",
       "    }\n",
       "\n",
       "    .dataframe tbody tr th {\n",
       "        vertical-align: top;\n",
       "    }\n",
       "\n",
       "    .dataframe thead th {\n",
       "        text-align: right;\n",
       "    }\n",
       "</style>\n",
       "<table border=\"1\" class=\"dataframe\">\n",
       "  <thead>\n",
       "    <tr style=\"text-align: right;\">\n",
       "      <th>fatality</th>\n",
       "      <th>False</th>\n",
       "      <th>True</th>\n",
       "    </tr>\n",
       "    <tr>\n",
       "      <th>first_class</th>\n",
       "      <th></th>\n",
       "      <th></th>\n",
       "    </tr>\n",
       "  </thead>\n",
       "  <tbody>\n",
       "    <tr>\n",
       "      <th>False</th>\n",
       "      <td>24293</td>\n",
       "      <td>166</td>\n",
       "    </tr>\n",
       "    <tr>\n",
       "      <th>True</th>\n",
       "      <td>78618</td>\n",
       "      <td>911</td>\n",
       "    </tr>\n",
       "  </tbody>\n",
       "</table>\n",
       "</div>"
      ],
      "text/plain": [
       "fatality     False  True\n",
       "first_class             \n",
       "False        24293   166\n",
       "True         78618   911"
      ]
     },
     "execution_count": 11,
     "metadata": {},
     "output_type": "execute_result"
    }
   ],
   "source": [
    "ct = pd.crosstab(df_fat['first_class'], df_fat['fatality'])\n",
    "ct"
   ]
  },
  {
   "cell_type": "markdown",
   "metadata": {},
   "source": [
    "### Compare value from $\\chi^2$ test with alpha"
   ]
  },
  {
   "cell_type": "code",
   "execution_count": 12,
   "metadata": {},
   "outputs": [
    {
     "name": "stdout",
     "output_type": "stream",
     "text": [
      "p-value: 3.6067450279444316e-10\n",
      "Hypothesis is confirmed\n"
     ]
    }
   ],
   "source": [
    "stat = scipy.stats.chi2_contingency(ct)\n",
    "alpha = 0.05\n",
    "\n",
    "print(f\"p-value: {stat[1]}\")\n",
    "if stat[1] >= alpha:\n",
    "    print(\"Hypothesis is confirmed\")\n",
    "else:\n",
    "    print(\"Hypothesis is declined\")"
   ]
  },
  {
   "cell_type": "markdown",
   "metadata": {},
   "source": [
    "# Second hypothesis - Does Škoda have lesser damage than Audi when involved in accident?\n",
    "### Prepare data for Welch's t-test"
   ]
  },
  {
   "cell_type": "code",
   "execution_count": 13,
   "metadata": {},
   "outputs": [],
   "source": [
    "df_dmg = pd.read_pickle(\"accidents.pkl.gz\")[['p45a', 'p53']]\n",
    "df_skoda = df_dmg[df_dmg['p45a'] == 39]\n",
    "df_audi = df_dmg[df_dmg['p45a'] == 2]"
   ]
  },
  {
   "cell_type": "markdown",
   "metadata": {},
   "source": [
    "### Calculate p-value with Welch's t-test\n",
    "This test is used because it tests for a significant difference between the mean of two unrelated groups."
   ]
  },
  {
   "cell_type": "code",
   "execution_count": 14,
   "metadata": {},
   "outputs": [
    {
     "name": "stdout",
     "output_type": "stream",
     "text": [
      "p-value: 1.2215657690775337e-120\n"
     ]
    }
   ],
   "source": [
    "stat = scipy.stats.ttest_ind(df_skoda['p53'], df_audi['p53'], equal_var=False)\n",
    "\n",
    "print(f\"p-value: {stat[1]}\")"
   ]
  },
  {
   "cell_type": "markdown",
   "metadata": {},
   "source": [
    "### Calculate degree of freedom for Welch's t-test\n",
    "Taken from [https://pythonfordatascienceorg.wordpress.com/welch-t-test-python-pandas/](https://pythonfordatascienceorg.wordpress.com/welch-t-test-python-pandas/)"
   ]
  },
  {
   "cell_type": "code",
   "execution_count": 15,
   "metadata": {},
   "outputs": [
    {
     "data": {
      "text/plain": [
       "12065.653204689757"
      ]
     },
     "execution_count": 15,
     "metadata": {},
     "output_type": "execute_result"
    }
   ],
   "source": [
    "x = df_skoda['p53']\n",
    "y = df_audi['p53']\n",
    "dof = (x.var()/x.size + y.var()/y.size)**2 / ((x.var()/x.size)**2 / (x.size-1) + (y.var()/y.size)**2 / (y.size-1))\n",
    "dof"
   ]
  },
  {
   "cell_type": "markdown",
   "metadata": {},
   "source": [
    "### Compare values with alpha\n",
    "p-value must be divided by 2 so one-tailed test can be performed. This test tests the hypothesis that one population is greater or equal than the other. We need to reject h0 hypothesis so p-value must be lesser than alpha."
   ]
  },
  {
   "cell_type": "code",
   "execution_count": 16,
   "metadata": {},
   "outputs": [
    {
     "name": "stdout",
     "output_type": "stream",
     "text": [
      "Hypothesis is confirmed\n"
     ]
    }
   ],
   "source": [
    "alpha = 0.05\n",
    "\n",
    "if stat[1] / 2 < alpha:\n",
    "    print(\"Hypothesis is confirmed\")\n",
    "else:\n",
    "    print(\"Hypothesis is declined\")"
   ]
  }
 ],
 "metadata": {
  "interpreter": {
   "hash": "e7370f93d1d0cde622a1f8e1c04877d8463912d04d973331ad4851f04de6915a"
  },
  "kernelspec": {
   "display_name": "Python 3.10.1 64-bit",
   "name": "python3"
  },
  "language_info": {
   "codemirror_mode": {
    "name": "ipython",
    "version": 3
   },
   "file_extension": ".py",
   "mimetype": "text/x-python",
   "name": "python",
   "nbconvert_exporter": "python",
   "pygments_lexer": "ipython3",
   "version": "3.10.1"
  },
  "orig_nbformat": 4
 },
 "nbformat": 4,
 "nbformat_minor": 2
}
